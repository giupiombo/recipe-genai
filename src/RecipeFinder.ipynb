{
  "nbformat": 4,
  "nbformat_minor": 0,
  "metadata": {
    "colab": {
      "provenance": [],
      "collapsed_sections": [
        "TSMmEiMf24bf",
        "P02E_dnF3L3T"
      ]
    },
    "kernelspec": {
      "name": "python3",
      "display_name": "Python 3"
    },
    "language_info": {
      "name": "python"
    }
  },
  "cells": [
    {
      "cell_type": "markdown",
      "source": [
        "# Recipe Finder with GenAI\n",
        "\n",
        "🇺🇸 This project allows user to give the desired ingredients, any dietary restrictions and/or preferred culinary and get a recipe selection in return. It also allows the user to ask for a drink combination for the selected recipe.\n",
        "\n",
        "🇧🇷 Esse projeto permite que o usuário insira os ingredientes desejados, qualquer restrição alimentar e/ou culinária preferida e receba uma lista de receitas. Ele também permite que o usuário peça recomendações de bebidas que combinam com a receita selecionada."
      ],
      "metadata": {
        "id": "5kjXtiwo1rN3"
      }
    },
    {
      "cell_type": "markdown",
      "source": [
        "## Step 1: install genai and adk SDKs"
      ],
      "metadata": {
        "id": "TSMmEiMf24bf"
      }
    },
    {
      "cell_type": "code",
      "execution_count": null,
      "metadata": {
        "id": "VEOCTeSe-TXf"
      },
      "outputs": [],
      "source": [
        "%pip -q install google-genai"
      ]
    },
    {
      "cell_type": "code",
      "source": [
        "%pip install -q google-adk"
      ],
      "metadata": {
        "colab": {
          "base_uri": "https://localhost:8080/"
        },
        "id": "IProajX6-ols",
        "outputId": "94e430e3-612d-4c25-9716-ab2c3790fad3"
      },
      "execution_count": null,
      "outputs": [
        {
          "output_type": "stream",
          "name": "stdout",
          "text": [
            "\u001b[?25l   \u001b[90m━━━━━━━━━━━━━━━━━━━━━━━━━━━━━━━━━━━━━━━━\u001b[0m \u001b[32m0.0/1.2 MB\u001b[0m \u001b[31m?\u001b[0m eta \u001b[36m-:--:--\u001b[0m\r\u001b[2K   \u001b[91m━━━━━━━━━━━━━━━━━━━━━━━\u001b[0m\u001b[91m╸\u001b[0m\u001b[90m━━━━━━━━━━━━━━━━\u001b[0m \u001b[32m0.7/1.2 MB\u001b[0m \u001b[31m21.4 MB/s\u001b[0m eta \u001b[36m0:00:01\u001b[0m\r\u001b[2K   \u001b[91m━━━━━━━━━━━━━━━━━━━━━━━━━━━━━━━━━━━━━━━\u001b[0m\u001b[91m╸\u001b[0m \u001b[32m1.2/1.2 MB\u001b[0m \u001b[31m26.4 MB/s\u001b[0m eta \u001b[36m0:00:01\u001b[0m\r\u001b[2K   \u001b[90m━━━━━━━━━━━━━━━━━━━━━━━━━━━━━━━━━━━━━━━━\u001b[0m \u001b[32m1.2/1.2 MB\u001b[0m \u001b[31m15.0 MB/s\u001b[0m eta \u001b[36m0:00:00\u001b[0m\n",
            "\u001b[2K   \u001b[90m━━━━━━━━━━━━━━━━━━━━━━━━━━━━━━━━━━━━━━━━\u001b[0m \u001b[32m232.1/232.1 kB\u001b[0m \u001b[31m9.8 MB/s\u001b[0m eta \u001b[36m0:00:00\u001b[0m\n",
            "\u001b[2K   \u001b[90m━━━━━━━━━━━━━━━━━━━━━━━━━━━━━━━━━━━━━━━━\u001b[0m \u001b[32m95.2/95.2 kB\u001b[0m \u001b[31m4.2 MB/s\u001b[0m eta \u001b[36m0:00:00\u001b[0m\n",
            "\u001b[2K   \u001b[90m━━━━━━━━━━━━━━━━━━━━━━━━━━━━━━━━━━━━━━━━\u001b[0m \u001b[32m217.1/217.1 kB\u001b[0m \u001b[31m8.8 MB/s\u001b[0m eta \u001b[36m0:00:00\u001b[0m\n",
            "\u001b[2K   \u001b[90m━━━━━━━━━━━━━━━━━━━━━━━━━━━━━━━━━━━━━━━━\u001b[0m \u001b[32m334.1/334.1 kB\u001b[0m \u001b[31m14.7 MB/s\u001b[0m eta \u001b[36m0:00:00\u001b[0m\n",
            "\u001b[2K   \u001b[90m━━━━━━━━━━━━━━━━━━━━━━━━━━━━━━━━━━━━━━━━\u001b[0m \u001b[32m125.1/125.1 kB\u001b[0m \u001b[31m6.0 MB/s\u001b[0m eta \u001b[36m0:00:00\u001b[0m\n",
            "\u001b[2K   \u001b[90m━━━━━━━━━━━━━━━━━━━━━━━━━━━━━━━━━━━━━━━━\u001b[0m \u001b[32m65.8/65.8 kB\u001b[0m \u001b[31m3.7 MB/s\u001b[0m eta \u001b[36m0:00:00\u001b[0m\n",
            "\u001b[2K   \u001b[90m━━━━━━━━━━━━━━━━━━━━━━━━━━━━━━━━━━━━━━━━\u001b[0m \u001b[32m118.9/118.9 kB\u001b[0m \u001b[31m6.2 MB/s\u001b[0m eta \u001b[36m0:00:00\u001b[0m\n",
            "\u001b[2K   \u001b[90m━━━━━━━━━━━━━━━━━━━━━━━━━━━━━━━━━━━━━━━━\u001b[0m \u001b[32m194.9/194.9 kB\u001b[0m \u001b[31m10.2 MB/s\u001b[0m eta \u001b[36m0:00:00\u001b[0m\n",
            "\u001b[2K   \u001b[90m━━━━━━━━━━━━━━━━━━━━━━━━━━━━━━━━━━━━━━━━\u001b[0m \u001b[32m62.5/62.5 kB\u001b[0m \u001b[31m3.5 MB/s\u001b[0m eta \u001b[36m0:00:00\u001b[0m\n",
            "\u001b[2K   \u001b[90m━━━━━━━━━━━━━━━━━━━━━━━━━━━━━━━━━━━━━━━━\u001b[0m \u001b[32m103.3/103.3 kB\u001b[0m \u001b[31m5.8 MB/s\u001b[0m eta \u001b[36m0:00:00\u001b[0m\n",
            "\u001b[2K   \u001b[90m━━━━━━━━━━━━━━━━━━━━━━━━━━━━━━━━━━━━━━━━\u001b[0m \u001b[32m44.4/44.4 kB\u001b[0m \u001b[31m2.5 MB/s\u001b[0m eta \u001b[36m0:00:00\u001b[0m\n",
            "\u001b[2K   \u001b[90m━━━━━━━━━━━━━━━━━━━━━━━━━━━━━━━━━━━━━━━━\u001b[0m \u001b[32m72.0/72.0 kB\u001b[0m \u001b[31m4.5 MB/s\u001b[0m eta \u001b[36m0:00:00\u001b[0m\n",
            "\u001b[?25h"
          ]
        }
      ]
    },
    {
      "cell_type": "markdown",
      "source": [
        "## Step 2: import dependencies and setup environment"
      ],
      "metadata": {
        "id": "P02E_dnF3L3T"
      }
    },
    {
      "cell_type": "code",
      "source": [
        "import os\n",
        "from google.colab import userdata\n",
        "from google import genai\n",
        "from google.adk.agents import Agent\n",
        "from google.adk.runners import Runner\n",
        "from google.adk.sessions import InMemorySessionService\n",
        "from google.adk.tools import google_search\n",
        "from google.genai import types\n",
        "import textwrap\n",
        "from IPython.display import display, Markdown\n",
        "import requests\n",
        "import warnings\n",
        "\n",
        "warnings.filterwarnings(\"ignore\")\n",
        "\n",
        "\n",
        "os.environ['GOOGLE_API_KEY'] = userdata.get('GOOGLE_API_KEY')\n",
        "client = genai.Client()\n",
        "MODEL_ID = \"gemini-2.0-flash\""
      ],
      "metadata": {
        "id": "IienT3Xc-xIT"
      },
      "execution_count": 43,
      "outputs": []
    },
    {
      "cell_type": "markdown",
      "source": [
        "## Step 3: create auxiliar functions\n",
        "\n",
        "🇺🇸 These two auxiliar functions are used to help us call an agent and display the response in a prettier format.\n",
        "\n",
        "🇧🇷 Essas duas funções auxiliares são usadas para nos ajudar a chamar um agente e exibir a resposta."
      ],
      "metadata": {
        "id": "XqhJnBXZ3js0"
      }
    },
    {
      "cell_type": "code",
      "source": [
        "# Função auxiliar que envia uma mensagem para um agente via Runner e retorna a resposta final\n",
        "def call_agent(agent: Agent, message_text: str) -> str:\n",
        "    # Cria um serviço de sessão em memória\n",
        "    session_service = InMemorySessionService()\n",
        "    # Cria uma nova sessão (você pode personalizar os IDs conforme necessário)\n",
        "    session = session_service.create_session(app_name=agent.name, user_id=\"user1\", session_id=\"session1\")\n",
        "    # Cria um Runner para o agente\n",
        "    runner = Runner(agent=agent, app_name=agent.name, session_service=session_service)\n",
        "    # Cria o conteúdo da mensagem de entrada\n",
        "    content = types.Content(role=\"user\", parts=[types.Part(text=message_text)])\n",
        "\n",
        "    final_response = \"\"\n",
        "    # Itera assincronamente pelos eventos retornados durante a execução do agente\n",
        "    for event in runner.run(user_id=\"user1\", session_id=\"session1\", new_message=content):\n",
        "        if event.is_final_response():\n",
        "          for part in event.content.parts:\n",
        "            if part.text is not None:\n",
        "              final_response += part.text\n",
        "              final_response += \"\\n\"\n",
        "    return final_response\n",
        "\n",
        "# Função auxiliar para exibir texto formatado em Markdown no Colab\n",
        "def to_markdown(text):\n",
        "  text = text.replace('•', '  *')\n",
        "  return Markdown(textwrap.indent(text, '> ', predicate=lambda _: True))"
      ],
      "metadata": {
        "id": "ibGWd5G5Y-sH"
      },
      "execution_count": 50,
      "outputs": []
    },
    {
      "cell_type": "markdown",
      "source": [
        "## Step 4: create the agents\n",
        "\n",
        "🇺🇸 Four used agents:\n",
        "1.   **Translator Agent:** translate the texts into the desired language.\n",
        "2.   **Search Agent:** search for recipes within the user input.\n",
        "3.   **Recipe Agent:** give the full recipe steps from the searched recipe list.\n",
        "4.   **Drink Agent:** give a perfect pair drink recommendation based on the selected recipe.\n",
        "\n",
        "🇧🇷 Quatro agentes usados:\n",
        "1.   **Translator Agent:** traduz os textos na linguagem desejada.\n",
        "2.   **Search Agent:** procura por receitas com base na entrada do usuário.\n",
        "3.   **Recipe Agent:** da todos os passos da receita escolhida.\n",
        "4.   **Drink Agent:** da uma recomendação de bebida perfeita com base na receita selecionada.\n"
      ],
      "metadata": {
        "id": "-Xk3FbN24YRL"
      }
    },
    {
      "cell_type": "code",
      "source": [
        "####################################\n",
        "# --- Agent 1: Translate texts --- #\n",
        "####################################\n",
        "def translate_text(language, text):\n",
        "    translator_agent = Agent(\n",
        "        name=\"translator_agent\",\n",
        "        model=MODEL_ID,\n",
        "        instruction=\"\"\"\n",
        "        You are a highly accurate translator agent.\n",
        "        Your task is to translate the given text *exactly* into the specified language, preserving any formatting or special characters.\n",
        "        Do not add any extra commentary or explanations.  Do not add extra new lines (\\n). Just return the translated text.\n",
        "        \"\"\",\n",
        "        description=\"The agent translates texts with high accuracy.\",\n",
        "        tools=[]\n",
        "    )\n",
        "\n",
        "    message_text = f\"Translate the following text into {language}: '{text}'\"\n",
        "    return call_agent(translator_agent, message_text).strip()\n",
        "\n",
        "\n",
        "#######################################\n",
        "# --- Agent 2: Search for Recipes --- #\n",
        "#######################################\n",
        "def search_recipes(language, ingredients, dietary_restrictions, culinary):\n",
        "  search_agent = Agent(\n",
        "      name=\"search_agent\",\n",
        "      model=MODEL_ID,\n",
        "      instruction=\"\"\"\n",
        "      You are a research assistant. Your role is to use google_search to find recipes based on ingredients,\n",
        "      dietary restrictions and culinary type.\n",
        "      Get a max of 5 relevant recipes based on the requirements.\n",
        "      Please respond in the selected language.\n",
        "      \"\"\",\n",
        "      description=\"The agent searches for recipes on Google.\",\n",
        "      tools=[google_search],\n",
        "  )\n",
        "\n",
        "  search_agent_entry = f\"Selected Language: {language}.\\nIngredients: {ingredients}.\\nDietary restrictions: {dietary_restrictions}.\\nCulinary: {culinary}.\"\n",
        "\n",
        "  return call_agent(search_agent, search_agent_entry)\n",
        "\n",
        "\n",
        "#########################################\n",
        "# --- Agent 3: Return chosen recipe --- #\n",
        "#########################################\n",
        "def give_recipe(language, chosen_recipe, recipe_list):\n",
        "    recipe_agent = Agent(\n",
        "        name=\"recipe_agent\",\n",
        "        model=MODEL_ID,\n",
        "        instruction=\"\"\"\n",
        "        You are a recipe agent. Based on the recipe list, and the chosen recipe.\n",
        "        You should use google_search to retrun the step by step recipe for the chosen recipe.\n",
        "        If you can find, also give the estimated time it takes for cooking this recipe.\n",
        "        Please respond in the selected language.\n",
        "        \"\"\",\n",
        "        description=\"The agent gives the steps to the chosen recipe.\",\n",
        "        tools=[google_search]\n",
        "    )\n",
        "\n",
        "    recipe_agent_entry = f\"Selected language: {language}.\\nChosen recipe:{chosen_recipe}.\\nRecipe List: {recipe_list}\"\n",
        "    return call_agent(recipe_agent, recipe_agent_entry)\n",
        "\n",
        "\n",
        "###############################################\n",
        "# --- Agent 4: Give drink recommendations --- #\n",
        "###############################################\n",
        "def give_drink_recommendations(language, chosen_recipe, recipe_list):\n",
        "    drink_agent = Agent(\n",
        "        name=\"drink_agent\",\n",
        "        model=MODEL_ID,\n",
        "        instruction=\"\"\"\n",
        "        You are a drink speciallist. Based on the recipe list, and the chosen recipe.\n",
        "        You should use google_search to give a recommendation of a drink that would be a perfect match with the chosen recipe.\n",
        "        Give a max of 3 drink options.\n",
        "        Please respond in the selected language.\n",
        "        \"\"\",\n",
        "        description=\"The agent gives you a recomendation of drinks to match the recipe.\",\n",
        "        tools=[google_search]\n",
        "    )\n",
        "\n",
        "    drink_agent_entry = f\"Selected language: {language}.\\nChosen recipe:{chosen_recipe}.\\nRecipe List: {recipe_list}\"\n",
        "    return call_agent(drink_agent, drink_agent_entry)"
      ],
      "metadata": {
        "id": "wGVWceW2hA6H"
      },
      "execution_count": 51,
      "outputs": []
    },
    {
      "cell_type": "markdown",
      "source": [
        "## Step 5: run the program"
      ],
      "metadata": {
        "id": "QCL6Bck35s3C"
      }
    },
    {
      "cell_type": "code",
      "source": [
        "# Select language for the program\n",
        "language = input(\"❓ Please select a language: \")\n",
        "if not language:\n",
        "  print(\"Defaulting to english...\")\n",
        "  language = \"english\"\n",
        "\n",
        "# Choose ingredients, dietary restrictions and culinary\n",
        "ingredients = input(translate_text(language, \"❓ Please type the ingredients you would like to use:\") + \" \")\n",
        "dietary_restrictions = input(translate_text(language, \"❓ Please type any dietary restrictions:\") + \" \")\n",
        "culinary = input(translate_text(language, \"❓ If you have a preferred culinary type please state it here:\") + \" \")\n",
        "\n",
        "print(\"\\n\")\n",
        "if not ingredients:\n",
        "  print(translate_text(language, \"You need to at least give the ingredients!\"))\n",
        "else:\n",
        "  print(translate_text(language, \"Lets search for your recipe...\"))\n",
        "\n",
        "  # Seach for recipes\n",
        "  recipe_list = search_recipes(language, ingredients, dietary_restrictions, culinary)\n",
        "  print(\"\\n--- \" + translate_text(language, \"Recipe List\") + \" ---\\n\")\n",
        "  display(to_markdown(recipe_list))\n",
        "  print(\"--------------------------------------------------------------\\n\")\n",
        "\n",
        "  # Return chosen recipe\n",
        "  chosen_recipe = input(translate_text(language, \"❓ Please chose one of the above recipes to get more details:\") + \" \")\n",
        "  while chosen_recipe.lower() != \"done\":\n",
        "    recipe = give_recipe(language, chosen_recipe, recipe_list)\n",
        "    print(\"\\n--- \" + translate_text(language, \"Chosen Recipe\") + \" ---\\n\")\n",
        "    display(to_markdown(recipe))\n",
        "    print(\"--------------------------------------------------------------\\n\")\n",
        "    chosen_recipe = input(translate_text(language, \"❓ Would you like to get the details for another recipe? Please type the name here or write\")\n",
        "                          + \" 'done' \" + translate_text(language, \"to move to the next question:\") + \" \")\n",
        "\n",
        "  # Drinks that may be good with the chosen recipe\n",
        "  drink_recommendation = (input(translate_text(language, \"❓ Would you like some drink recommendation to match some of the recipes? Type\")\n",
        "                            + \" 'y' \" + translate_text(language, \"for 'yes' and\") + \" 'n' \" +\n",
        "                            translate_text(language, \"for 'no':\") + \" \"))\n",
        "  if drink_recommendation.lower() == \"y\":\n",
        "    selected_recipe = input(translate_text(language, \"❓ For which recipe would you like the drink recommendation?\") + \" \")\n",
        "    drink = give_drink_recommendations(language, selected_recipe, recipe_list)\n",
        "    print(\"\\n--- \" + translate_text(language, \"Drink Recommendation\") + \" ---\\n\")\n",
        "    display(to_markdown(drink))\n",
        "    print(\"--------------------------------------------------------------\\n\")\n"
      ],
      "metadata": {
        "colab": {
          "base_uri": "https://localhost:8080/",
          "height": 1000
        },
        "id": "QaWbSkhsdPfc",
        "outputId": "c1b519d7-06cf-4a22-ddce-94738106b1f1"
      },
      "execution_count": 54,
      "outputs": [
        {
          "output_type": "stream",
          "name": "stdout",
          "text": [
            "❓ Please select a language: en\n",
            "❓ Please type the ingredients you would like to use: banana, chocolate, oats\n",
            "❓ Please type any dietary restrictions: lactose\n",
            "❓ If you have a preferred culinary type please state it here: \n",
            "\n",
            "\n",
            "Lets search for your recipe...\n",
            "\n",
            "--- Recipe List ---\n",
            "\n"
          ]
        },
        {
          "output_type": "display_data",
          "data": {
            "text/plain": [
              "<IPython.core.display.Markdown object>"
            ],
            "text/markdown": "> Here are some lactose-free recipes featuring banana, chocolate, and oats:\n> \n> 1.  **Banana Chocolate Chunk Baked Oatmeal:** This recipe uses cashew milk to ensure it is dairy-free. It combines oats, bananas, cashew milk, eggs, vanilla extract, coconut oil, cinnamon, salt, baking soda, and chocolate chunks. It is baked for 45 minutes at 350°F.\n> 2.  **Chocolate Banana Oat Breakfast Smoothie:** This smoothie uses non-dairy milk and includes rolled oats, almond butter, cocoa powder, flax seeds, vanilla extract, banana, salt, cinnamon, and optional protein powder and ice. Blend until smooth.\n> 3.  **Vegan Chocolate Banana Oatmeal:** This recipe uses cashew milk, quick-cooking oats, cocoa powder, salt, cinnamon, maple syrup, vegan dark chocolate chips, and banana. Simmer for about 5 minutes.\n> 4.  **Double Chocolate Banana Baked Oats:** This recipe calls for ripe bananas, dairy-free chocolate chips, cocoa powder, sugar or maple syrup, rolled oats, and dairy-free milk. Bake for 35-40 minutes at 350°F.\n> 5.  **Banana Chocolate Overnight Oats:** This recipe uses almond milk to keep it vegan and lactose-free. It combines banana, almond milk, maple syrup, peanut butter, vanilla extract, oats, cocoa powder, chia seeds, cinnamon, salt, and optional chocolate chips.\n"
          },
          "metadata": {}
        },
        {
          "output_type": "stream",
          "name": "stdout",
          "text": [
            "--------------------------------------------------------------\n",
            "\n",
            "❓ Please chose one of the above recipes to get more details: Banana Chocolate Overnight Oats\n",
            "\n",
            "--- Chosen Recipe ---\n",
            "\n"
          ]
        },
        {
          "output_type": "display_data",
          "data": {
            "text/plain": [
              "<IPython.core.display.Markdown object>"
            ],
            "text/markdown": "> Here's a recipe for Banana Chocolate Overnight Oats, combining the information from multiple sources:\n> \n> **Ingredients:**\n> \n> *   1 large ripe banana, mashed.\n> *   1/2 cup rolled oats.\n> *   1 1/4 cup almond milk (or milk of your choice).\n> *   1 tablespoon chia seeds.\n> *   1 tablespoon cacao powder.\n> *   1 tablespoon maple syrup.\n> *   1/2 teaspoon vanilla extract.\n> *   1/8 teaspoon cinnamon.\n> *   Pinch of salt.\n> *   Optional: chocolate chips, toppings of your choice.\n> \n> **Instructions:**\n> \n> 1.  In a medium-sized bowl, mash the banana.\n> 2.  Add the cacao powder, maple syrup, and vanilla to the mashed banana. Mix until well combined.\n> 3.  Add the milk, oats, chia seeds, and cinnamon. Stir to combine.\n> 4.  Cover the bowl with cling wrap, or divide the mixture into a glass or mason jar and cover.\n> 5.  Refrigerate for at least 6 hours, or preferably overnight.\n> 6.  In the morning, stir the oats and add more milk if needed to reach your desired consistency.\n> 7.  Serve with toppings of your choice.\n> \n> **Estimated Time:**\n> \n> *   Preparation: 5-10 minutes.\n> *   Refrigeration: 6 hours or overnight.\n> \n"
          },
          "metadata": {}
        },
        {
          "output_type": "stream",
          "name": "stdout",
          "text": [
            "--------------------------------------------------------------\n",
            "\n",
            "❓ Would you like to get the details for another recipe? Please type the name here or write' 'done' to move to the next question: 4\n",
            "\n",
            "--- Chosen Recipe ---\n",
            "\n"
          ]
        },
        {
          "output_type": "display_data",
          "data": {
            "text/plain": [
              "<IPython.core.display.Markdown object>"
            ],
            "text/markdown": "> Here's how to make Double Chocolate Banana Baked Oats, with an estimated baking time of 35-40 minutes:\n> \n> **Ingredients:**\n> \n> *   2 medium ripe bananas\n> *   1/2 cup (84 grams) chocolate chips, plus extra for topping\n> *   1/2 cup (40 grams) cocoa powder\n> *   2 tablespoons sugar or maple syrup\n> *   2 cups (200 grams) rolled/old-fashioned oats\n> *   1 cup (240 ml) dairy-free milk\n> *   Optional: a small handful of chopped walnuts or pecans\n> \n> **Instructions:**\n> \n> 1.  Preheat your oven to 350°F (175°C).\n> 2.  In a large bowl, mash the bananas until smooth. You can even do this in the oven-proof dish to save on washing up.\n> 3.  Add the chocolate chips, cocoa powder, maple syrup/sugar, oats, and dairy-free milk to the bananas and stir to combine.\n> 4.  Spoon the mixture into an oven-proof dish and smooth the top. Sprinkle with additional chocolate chips and nuts if desired.\n> 5.  Bake for 35 to 40 minutes, or until heated through and a bit crusty on top.\n> 6.  Serve warm or cold.\n> \n"
          },
          "metadata": {}
        },
        {
          "output_type": "stream",
          "name": "stdout",
          "text": [
            "--------------------------------------------------------------\n",
            "\n",
            "❓ Would you like to get the details for another recipe? Please type the name here or write' 'done' to move to the next question: done\n",
            "❓ Would you like some drink recommendation to match some of the recipes? Type 'y' for 'yes' and 'n' for 'no':' y\n",
            "❓ For which recipe would you like the drink recommendation? Banana Chocolate Overnight Oats\n",
            "\n",
            "--- Drink Recommendation ---\n",
            "\n"
          ]
        },
        {
          "output_type": "display_data",
          "data": {
            "text/plain": [
              "<IPython.core.display.Markdown object>"
            ],
            "text/markdown": "> Here are a few drink recommendations that would pair well with your Banana Chocolate Overnight Oats:\n> \n> 1.  **Chocolate Banana Smoothie:** Given the flavors in your overnight oats, a chocolate banana smoothie would complement it nicely. You can adjust the ingredients to match your preferences, such as using almond milk or adding protein powder.\n> 2.  **Milk:** A simple glass of milk (dairy or non-dairy) can be a refreshing and classic pairing with oatmeal. The cool and plain flavor of the milk can balance the richness of the chocolate and banana.\n> 3.  **Coffee:** For those who enjoy a caffeine boost in the morning, coffee can be a good choice. The bitterness of the coffee can contrast the sweetness of the banana and chocolate, creating a balanced combination.\n> \n"
          },
          "metadata": {}
        },
        {
          "output_type": "stream",
          "name": "stdout",
          "text": [
            "--------------------------------------------------------------\n",
            "\n"
          ]
        }
      ]
    }
  ]
}